{
 "cells": [
  {
   "cell_type": "code",
   "execution_count": 1,
   "id": "20611354",
   "metadata": {},
   "outputs": [
    {
     "name": "stdout",
     "output_type": "stream",
     "text": [
      "/workspace/data\r\n"
     ]
    }
   ],
   "source": [
    "!pwd"
   ]
  },
  {
   "cell_type": "code",
   "execution_count": 2,
   "id": "0079e93b",
   "metadata": {},
   "outputs": [],
   "source": [
    "import glob\n",
    "import os\n",
    "import csv\n",
    "from sklearn.model_selection import train_test_split"
   ]
  },
  {
   "cell_type": "code",
   "execution_count": 3,
   "id": "179e5ed3",
   "metadata": {},
   "outputs": [],
   "source": [
    "path = './text/'\n",
    "dir_files = os.listdir(path=path)\n",
    "dirs = [f for f in dir_files if os.path.isdir(os.path.join(path, f))]"
   ]
  },
  {
   "cell_type": "code",
   "execution_count": 4,
   "id": "a14c4bd2",
   "metadata": {},
   "outputs": [],
   "source": [
    "text_label_data=[]\n",
    "dir_count = 0\n",
    "file_count =0"
   ]
  },
  {
   "cell_type": "code",
   "execution_count": 5,
   "id": "d1481ec9",
   "metadata": {},
   "outputs": [
    {
     "name": "stdout",
     "output_type": "stream",
     "text": [
      "files: 7367dirs: 9"
     ]
    }
   ],
   "source": [
    "#load data and join\n",
    "for i in range(len(dirs)):\n",
    "    dir_name = dirs[i]\n",
    "    files = glob.glob(path +dir_name + \"/*.txt\")\n",
    "    dir_count += 1\n",
    "    \n",
    "    for file in files:\n",
    "        if os.path.basename(file) == \"LICENSE.txt\":\n",
    "            continue\n",
    "        \n",
    "        with open(file, 'r') as f:\n",
    "            text = f.readlines()[3:]\n",
    "            text = ''.join(text)\n",
    "            text = text.translate(str.maketrans({'\\n':'', '\\t':'', '\\r': '', '\\u3000': ''}))\n",
    "            text_label_data.append([text, i])\n",
    "            \n",
    "        file_count += 1\n",
    "        print('\\rfiles: ' + str(file_count) + 'dirs: ' + str(dir_count), end='') "
   ]
  },
  {
   "cell_type": "code",
   "execution_count": 6,
   "id": "2b43c2f8",
   "metadata": {},
   "outputs": [],
   "source": [
    "#split data into train and test, and save as csv file\n",
    "news_train, news_test = train_test_split(text_label_data, train_size=0.7, shuffle=True)\n",
    "news_train_label, news_train_unlabel = train_test_split(news_train, train_size=0.1, shuffle=True)\n",
    "for i in range(len(news_train_unlabel)):\n",
    "    news_train_unlabel[i][1] = 'UNK_UNK'\n",
    "news_path = './'\n",
    "\n",
    "with open(news_path+'news_train_label.csv', 'w') as f:\n",
    "    writer = csv.writer(f)\n",
    "    writer.writerows(news_train_label)\n",
    "    \n",
    "with open(news_path+'news_train_unlabel.csv', 'w') as f:\n",
    "    writer = csv.writer(f)\n",
    "    writer.writerows(news_train_unlabel)\n",
    "\n",
    "with open(news_path+'news_test.csv','w') as f:\n",
    "    writer = csv.writer(f)\n",
    "    writer.writerows(news_test)  "
   ]
  },
  {
   "cell_type": "code",
   "execution_count": 7,
   "id": "29f176c9",
   "metadata": {
    "scrolled": false
   },
   "outputs": [],
   "source": [
    "import pandas as pd"
   ]
  },
  {
   "cell_type": "code",
   "execution_count": 9,
   "id": "cd65302d",
   "metadata": {},
   "outputs": [],
   "source": [
    "df_train_label = pd.DataFrame(news_train_label)\n",
    "df_train_label[1].value_counts()"
   ]
  },
  {
   "cell_type": "code",
   "execution_count": 11,
   "id": "5153b5f8",
   "metadata": {},
   "outputs": [
    {
     "data": {
      "text/plain": [
       "1    70\n",
       "7    66\n",
       "5    66\n",
       "4    64\n",
       "6    61\n",
       "0    59\n",
       "2    54\n",
       "8    41\n",
       "3    34\n",
       "Name: 1, dtype: int64"
      ]
     },
     "execution_count": 11,
     "metadata": {},
     "output_type": "execute_result"
    }
   ],
   "source": [
    "label[1].value_counts()"
   ]
  },
  {
   "cell_type": "code",
   "execution_count": 13,
   "id": "ce9d2302",
   "metadata": {
    "scrolled": true
   },
   "outputs": [
    {
     "data": {
      "text/plain": [
       "1    281\n",
       "4    273\n",
       "7    270\n",
       "6    265\n",
       "2    262\n",
       "5    253\n",
       "0    241\n",
       "8    207\n",
       "3    159\n",
       "Name: 1, dtype: int64"
      ]
     },
     "execution_count": 13,
     "metadata": {},
     "output_type": "execute_result"
    }
   ],
   "source": [
    "df_test = pd.DataFrame(news_test)\n",
    "df_test[1].value_counts()"
   ]
  }
 ],
 "metadata": {
  "kernelspec": {
   "display_name": "Python 3 (ipykernel)",
   "language": "python",
   "name": "python3"
  },
  "language_info": {
   "codemirror_mode": {
    "name": "ipython",
    "version": 3
   },
   "file_extension": ".py",
   "mimetype": "text/x-python",
   "name": "python",
   "nbconvert_exporter": "python",
   "pygments_lexer": "ipython3",
   "version": "3.8.7"
  }
 },
 "nbformat": 4,
 "nbformat_minor": 5
}
